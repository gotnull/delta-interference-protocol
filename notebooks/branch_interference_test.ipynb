{
	"cells": [{
		"cell_type": "markdown",
		"metadata": {},
		"source": ["# \u0394-Interference Protocol\n", "This notebook runs the statistical quantum interference experiment designed to compare Many-Worlds vs. collapse-based interpretations."]
	}, {
		"cell_type": "code",
		"execution_count": null,
		"metadata": {},
		"outputs": [],
		"source": ["from qiskit import QuantumCircuit, Aer, transpile, assemble\n", "import matplotlib.pyplot as plt\n", "\n", "qc = QuantumCircuit(3, 3)\n", "qc.h(0)\n", "qc.cx(0, 1)\n", "qc.cx(0, 2)\n", "qc.h(0)\n", "qc.measure([0, 1, 2], [0, 1, 2])\n", "\n", "backend = Aer.get_backend('qasm_simulator')\n", "t_qc = transpile(qc, backend)\n", "qobj = assemble(t_qc, shots=100000)\n", "result = backend.run(qobj).result()\n", "counts = result.get_counts()\n", "\n", "from qiskit.visualization import plot_histogram\n", "plot_histogram(counts)\n", "plt.show()"]
	}, {
		"cell_type": "code",
		"execution_count": null,
		"metadata": {},
		"outputs": [],
		"source": ["def compute_delta(counts):\n", "    total = sum(counts.values())\n", "    p000 = counts.get('000', 0) / total\n", "    p111 = counts.get('111', 0) / total\n", "    return p000 - p111\n", "\n", "delta = compute_delta(counts)\n", "print(\"\u0394 =\", delta)"]
	}],
	"metadata": {
		"kernelspec": {
			"display_name": "Python 3",
			"language": "python",
			"name": "python3"
		},
		"language_info": {
			"name": "python",
			"version": "3.11"
		}
	},
	"nbformat": 4,
	"nbformat_minor": 5
}